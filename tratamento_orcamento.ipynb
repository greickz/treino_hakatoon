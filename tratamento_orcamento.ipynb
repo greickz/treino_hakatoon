{
 "cells": [
  {
   "cell_type": "code",
   "execution_count": 11,
   "metadata": {},
   "outputs": [
    {
     "name": "stdout",
     "output_type": "stream",
     "text": [
      "Arquivo processado com sucesso!\n"
     ]
    }
   ],
   "source": [
    "import pandas as pd\n",
    "df_despesas = pd.read_excel('hackaton_treino_despesas.xlsx')\n",
    "df_despesas['Data'] = pd.to_datetime(df_despesas['Dados'], unit='ms')\n",
    "df_despesas['Ano'] = df_despesas['Data'].dt.year\n",
    "df_despesas['Mes'] = df_despesas['Data'].dt.month\n",
    "df_despesas['Trimestre'] = df_despesas['Data'].dt.to_period('Q')\n",
    "df_despesas['Data'] = df_despesas['Data'].dt.strftime('%d-%m-%Y')\n",
    "despesas_mensais_setor = df_despesas.groupby(['Ano', 'Mes', 'Setor'])['Valentia'].sum().reset_index()\n",
    "custo_por_tipo_setor = df_despesas.groupby(['Setor', 'Tipo'])['Valentia'].sum().reset_index()\n",
    "custo_por_tipo_setor = custo_por_tipo_setor.sort_values(by='Valentia', ascending=False)\n",
    "gastos_trimestrais = df_despesas.groupby(['Trimestre', 'Setor'])['Valentia'].sum().reset_index()\n",
    "variacoes_fornecedores = df_despesas.groupby(['Fornecedor', 'Tipo'])['Valentia'].agg(['mean', 'std', 'count']).reset_index()\n",
    "variacoes_fornecedores = variacoes_fornecedores.sort_values(by='std', ascending=False)\n",
    "df_despesas.to_excel('despesas_tratado.xlsx', index=False)\n",
    "print(\"Arquivo processado com sucesso!\")"
   ]
  },
  {
   "cell_type": "markdown",
   "metadata": {},
   "source": [
    "Análises"
   ]
  },
  {
   "cell_type": "code",
   "execution_count": null,
   "metadata": {},
   "outputs": [],
   "source": []
  }
 ],
 "metadata": {
  "kernelspec": {
   "display_name": "Python 3",
   "language": "python",
   "name": "python3"
  },
  "language_info": {
   "codemirror_mode": {
    "name": "ipython",
    "version": 3
   },
   "file_extension": ".py",
   "mimetype": "text/x-python",
   "name": "python",
   "nbconvert_exporter": "python",
   "pygments_lexer": "ipython3",
   "version": "3.12.1"
  }
 },
 "nbformat": 4,
 "nbformat_minor": 2
}
