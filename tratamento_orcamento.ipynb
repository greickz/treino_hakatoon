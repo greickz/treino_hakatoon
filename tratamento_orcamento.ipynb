{
 "cells": [
  {
   "cell_type": "code",
   "execution_count": 10,
   "metadata": {},
   "outputs": [
    {
     "name": "stdout",
     "output_type": "stream",
     "text": [
      "Arquivo processado com sucesso!\n"
     ]
    }
   ],
   "source": [
    "import pandas as pd\n",
    "df1 = pd.read_excel('hackaton_treino_despesas.xlsx')\n",
    "df2 = pd.read_excel('hackaton_treino_orcamento.xlsx')\n",
    "df_final = pd.concat([df1, df2], ignore_index=True)\n",
    "def arrumar_preco(valor):\n",
    "    if pd.isna(valor):\n",
    "        return None\n",
    "    valor = str(valor)\n",
    "    valor = valor.replace('\\xa0', '')  # Remove espaço não quebrável\n",
    "    valor = valor.replace('.', '')     # Remove separador de milhar\n",
    "    valor = valor.replace(',', '.')    # Troca vírgula por ponto decimal\n",
    "    valor = valor.strip()              # Remove espaços em volta\n",
    "    try:\n",
    "        return float(valor)\n",
    "    except ValueError:\n",
    "        return None\n",
    "df_final['Valor_realizado'] = df_final['Valor_realizado'].apply(arrumar_preco)\n",
    "df_final['Valentia'] = df_final['Valentia'].apply(arrumar_preco)\n",
    "df_final.to_excel('planilha_tratado.xlsx', index=False)\n",
    "print(\"Arquivo processado com sucesso!\")\n"
   ]
  }
 ],
 "metadata": {
  "kernelspec": {
   "display_name": "Python 3",
   "language": "python",
   "name": "python3"
  },
  "language_info": {
   "codemirror_mode": {
    "name": "ipython",
    "version": 3
   },
   "file_extension": ".py",
   "mimetype": "text/x-python",
   "name": "python",
   "nbconvert_exporter": "python",
   "pygments_lexer": "ipython3",
   "version": "3.12.1"
  }
 },
 "nbformat": 4,
 "nbformat_minor": 2
}
